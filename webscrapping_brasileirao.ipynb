{
 "cells": [
  {
   "cell_type": "markdown",
   "metadata": {},
   "source": [
    "# Importing Libraries"
   ]
  },
  {
   "cell_type": "code",
   "execution_count": 2,
   "metadata": {},
   "outputs": [],
   "source": [
    "import pandas as pd\n",
    "\n",
    "#importando selenium\n",
    "from selenium import webdriver\n",
    "from selenium.webdriver.common.keys import Keys\n",
    "from webdriver_manager.chrome import ChromeDriverManager\n",
    "from selenium.webdriver.support.ui import Select\n",
    "from selenium.common.exceptions import NoSuchElementException   \n",
    "from selenium.webdriver.support.ui import WebDriverWait\n",
    "from selenium.webdriver.support import expected_conditions as EC\n",
    "from selenium.webdriver.common.by import By\n",
    "from selenium.common.exceptions import TimeoutException\n",
    "from selenium.common.exceptions import UnexpectedAlertPresentException\n",
    "from selenium.webdriver.chrome.options import Options\n",
    "\n",
    "import numpy as np\n",
    "import os\n",
    "import time"
   ]
  },
  {
   "cell_type": "markdown",
   "metadata": {},
   "source": [
    "# Creating a function\n",
    "\n",
    "> This function takes the team statistic data from each season of the site [WhoScored](https://www.whoscored.com)\n",
    "\n",
    "#### Inputs\n",
    "\n",
    "- `weburl` : the url of the championship year\n",
    "\n",
    "    - [Example](https://www.whoscored.com/Regions/31/Tournaments/95/Brazil-Brasileirão) 2020 championship homepage\n",
    "\n",
    "\n",
    "- `pathc`  : Chrome Driver Path\n",
    "\n",
    "- `year`   : The year you wish to get data\n",
    "\n",
    "#### Outputs\n",
    "\n",
    "- `csv` table with each team's statistics in each season\n",
    "\n",
    "- The orders of the teams represents the standing in that year\n",
    "\n",
    "#### Columns\n",
    "\n",
    "`equipe` - team\n",
    "\n",
    "`gols`- total number of goals scored in the season\n",
    "\n",
    "`cartao_amarelo` - total number of yellow cards in the season\n",
    "\n",
    "`cartao_vermelho` - total number of red cards in the season\n",
    "\n",
    "`posse_de_bola`- percentage of ball possession\n",
    "\n",
    "`passes_certos` - percentage of pass accuracy\n",
    "\n",
    "`disputa_aerea`- avg. of aerial disputes won\n",
    "\n",
    "`ranking` - team's score for the season according to WhoScore\n"
   ]
  },
  {
   "cell_type": "code",
   "execution_count": 99,
   "metadata": {},
   "outputs": [],
   "source": [
    "#Criando a função\n",
    "\n",
    "def get_team_stats(weburl, pathc, year):\n",
    "\n",
    "    import time\n",
    "    driver = browser = webdriver.Chrome(pathc)         #setting the driver\n",
    "    print('Driver Path OK...')\n",
    "    \n",
    "    driver.get(weburl)                                   #getting the driver to read the url\n",
    "    print('Accessing the website...')\n",
    "    time.sleep(3)\n",
    "    \n",
    "    #going to the team statistics page\n",
    "    print('Going to statistics page')\n",
    "    driver.find_element_by_xpath('//*[@id=\"sub-navigation\"]/ul/li[3]/a').click()\n",
    "    time.sleep(3)    \n",
    "    \n",
    "    times = []\n",
    "    gols = []\n",
    "    chutes = []\n",
    "    cas = []\n",
    "    cvs = []\n",
    "    posses = []\n",
    "    passes = []\n",
    "    aereowon = []\n",
    "    rankings = []\n",
    "\n",
    "    vals = (list(np.arange(1,21,1)))\n",
    "    \n",
    "    \n",
    "    print('Getting the values of the table...')\n",
    "   \n",
    "    \n",
    "    for i in vals :\n",
    "        time = driver.find_element_by_xpath('//*[@id=\"top-team-stats-summary-content\"]/tr[{}]/td[1]'.format(i)).text\n",
    "        gol = driver.find_element_by_xpath('//*[@id=\"top-team-stats-summary-content\"]/tr[{}]/td[2]'.format(i)).text\n",
    "        chute = driver.find_element_by_xpath('//*[@id=\"top-team-stats-summary-content\"]/tr[{}]/td[3]'.format(i)).text\n",
    "        ca = driver.find_element_by_xpath('//*[@id=\"top-team-stats-summary-content\"]/tr[{}]/td[4]/span[1]'.format(i)).text\n",
    "        cv = driver.find_element_by_xpath('//*[@id=\"top-team-stats-summary-content\"]/tr[{}]/td[4]/span[2]'.format(i)).text\n",
    "        posse = driver.find_element_by_xpath('//*[@id=\"top-team-stats-summary-content\"]/tr[{}]/td[5]'.format(i)).text\n",
    "        passe = driver.find_element_by_xpath('//*[@id=\"top-team-stats-summary-content\"]/tr[{}]/td[6]'.format(i)).text\n",
    "        aereo = driver.find_element_by_xpath('//*[@id=\"top-team-stats-summary-content\"]/tr[{}]/td[7]'.format(i)).text\n",
    "        ranking = driver.find_element_by_xpath('//*[@id=\"top-team-stats-summary-content\"]/tr[{}]/td[8]'.format(i)).text\n",
    "        times.append(time)\n",
    "        gols.append(gol)\n",
    "        chutes.append(chute)\n",
    "        cas.append(ca)\n",
    "        cvs.append(cv)\n",
    "        posses.append(posse)\n",
    "        passes.append(passe)\n",
    "        aereowon.append(aereo)\n",
    "        rankings.append(ranking)\n",
    "    driver.close()\n",
    "    \n",
    "    print('Crating Dataframe...')\n",
    "    \n",
    "    #criando o dataframe a partir das listas\n",
    "    df = pd.DataFrame({\"equipe\":times, \"gols\":gols,\n",
    "                          \"cartao_amarelo\": cas, \"cartao_vermelho\":cvs,\n",
    "                          \"posse_de_bola\": posses, \"passes_certos\":passes,\n",
    "                          \"disputa_aerea\": aereowon, \"ranking\":rankings })\n",
    "    \n",
    "    print(df.columns)\n",
    "    \n",
    "    print('Saving Dataframe...')\n",
    "    df.to_csv('team_statistics_brasileirao_{}.csv'.format(year), index = False)\n",
    "    \n",
    "    print('Completed Successfully!')"
   ]
  },
  {
   "cell_type": "markdown",
   "metadata": {},
   "source": [
    "# Testing the function"
   ]
  },
  {
   "cell_type": "code",
   "execution_count": null,
   "metadata": {},
   "outputs": [],
   "source": [
    "#testando a função\n",
    "\n",
    "weburl = 'https://www.whoscored.com/Regions/31/Tournaments/95/Seasons/8158/Stages/18472/TeamStatistics/Brazil-Brasileirão-2020'\n",
    "pathc = 'D:\\Program Files (x86)\\chromedriver.exe'\n",
    "get_team_stats(weburl = url, pathc = pathc, year = '2020_Teste')"
   ]
  },
  {
   "cell_type": "markdown",
   "metadata": {},
   "source": [
    "# Each season link that I got with Selenium `2020-2001`"
   ]
  },
  {
   "cell_type": "code",
   "execution_count": 61,
   "metadata": {},
   "outputs": [],
   "source": [
    "#link de cada ano do Brasileirao (2020-2001)\n",
    "web = 'https://www.whoscored.com'\n",
    "\n",
    "year_option = [\n",
    "               \"/Regions/31/Tournaments/95/Seasons/8158/Brazil-Brasileir%C3%A3o\",\n",
    "               \"/Regions/31/Tournaments/95/Seasons/7683/Brazil-Brasileir%C3%A3o\",\n",
    "                \"/Regions/31/Tournaments/95/Seasons/7243/Brazil-Brasileir%C3%A3o\",\n",
    "                \"/Regions/31/Tournaments/95/Seasons/6700/Brazil-Brasileir%C3%A3o\",\n",
    "                \"/Regions/31/Tournaments/95/Seasons/6242/Brazil-Brasileir%C3%A3o\",\n",
    "                \"/Regions/31/Tournaments/95/Seasons/5713/Brazil-Brasileir%C3%A3o\",\n",
    "                \"/Regions/31/Tournaments/95/Seasons/4185/Brazil-Brasileir%C3%A3o\",\n",
    "                \"/Regions/31/Tournaments/95/Seasons/3753/Brazil-Brasileir%C3%A3o\",\n",
    "                \"/Regions/31/Tournaments/95/Seasons/3254/Brazil-Brasileir%C3%A3o\",\n",
    "                \"/Regions/31/Tournaments/95/Seasons/2848/Brazil-Brasileir%C3%A3o\",\n",
    "                \"/Regions/31/Tournaments/95/Seasons/2232/Brazil-Brasileir%C3%A3o\",\n",
    "                \"/Regions/31/Tournaments/95/Seasons/1721/Brazil-Brasileir%C3%A3o\",\n",
    "                \"/Regions/31/Tournaments/95/Seasons/1434/Brazil-Brasileir%C3%A3o\",\n",
    "                \"/Regions/31/Tournaments/95/Seasons/1161/Brazil-Brasileir%C3%A3o\",\n",
    "                \"/Regions/31/Tournaments/95/Seasons/937/Brazil-Brasileir%C3%A3o\",\n",
    "                \"/Regions/31/Tournaments/95/Seasons/739/Brazil-Brasileir%C3%A3o\",\n",
    "                \"/Regions/31/Tournaments/95/Seasons/507/Brazil-Brasileir%C3%A3o\",\n",
    "                \"/Regions/31/Tournaments/95/Seasons/351/Brazil-Brasileir%C3%A3o\",\n",
    "                \"/Regions/31/Tournaments/95/Seasons/2373/Brazil-Brasileir%C3%A3o\",\n",
    "                \"/Regions/31/Tournaments/95/Seasons/3079/Brazil-Brasileir%C3%A3o\"\n",
    "                ]"
   ]
  },
  {
   "cell_type": "code",
   "execution_count": 66,
   "metadata": {},
   "outputs": [
    {
     "name": "stdout",
     "output_type": "stream",
     "text": [
      "https://www.whoscored.com/Regions/31/Tournaments/95/Seasons/8158/Brazil-Brasileir%C3%A3o\n",
      "https://www.whoscored.com/Regions/31/Tournaments/95/Seasons/7683/Brazil-Brasileir%C3%A3o\n",
      "https://www.whoscored.com/Regions/31/Tournaments/95/Seasons/7243/Brazil-Brasileir%C3%A3o\n",
      "https://www.whoscored.com/Regions/31/Tournaments/95/Seasons/6700/Brazil-Brasileir%C3%A3o\n",
      "https://www.whoscored.com/Regions/31/Tournaments/95/Seasons/6242/Brazil-Brasileir%C3%A3o\n",
      "https://www.whoscored.com/Regions/31/Tournaments/95/Seasons/5713/Brazil-Brasileir%C3%A3o\n",
      "https://www.whoscored.com/Regions/31/Tournaments/95/Seasons/4185/Brazil-Brasileir%C3%A3o\n",
      "https://www.whoscored.com/Regions/31/Tournaments/95/Seasons/3753/Brazil-Brasileir%C3%A3o\n",
      "https://www.whoscored.com/Regions/31/Tournaments/95/Seasons/3254/Brazil-Brasileir%C3%A3o\n",
      "https://www.whoscored.com/Regions/31/Tournaments/95/Seasons/2848/Brazil-Brasileir%C3%A3o\n",
      "https://www.whoscored.com/Regions/31/Tournaments/95/Seasons/2232/Brazil-Brasileir%C3%A3o\n",
      "https://www.whoscored.com/Regions/31/Tournaments/95/Seasons/1721/Brazil-Brasileir%C3%A3o\n",
      "https://www.whoscored.com/Regions/31/Tournaments/95/Seasons/1434/Brazil-Brasileir%C3%A3o\n",
      "https://www.whoscored.com/Regions/31/Tournaments/95/Seasons/1161/Brazil-Brasileir%C3%A3o\n",
      "https://www.whoscored.com/Regions/31/Tournaments/95/Seasons/937/Brazil-Brasileir%C3%A3o\n",
      "https://www.whoscored.com/Regions/31/Tournaments/95/Seasons/739/Brazil-Brasileir%C3%A3o\n",
      "https://www.whoscored.com/Regions/31/Tournaments/95/Seasons/507/Brazil-Brasileir%C3%A3o\n",
      "https://www.whoscored.com/Regions/31/Tournaments/95/Seasons/351/Brazil-Brasileir%C3%A3o\n",
      "https://www.whoscored.com/Regions/31/Tournaments/95/Seasons/2373/Brazil-Brasileir%C3%A3o\n",
      "https://www.whoscored.com/Regions/31/Tournaments/95/Seasons/3079/Brazil-Brasileir%C3%A3o\n"
     ]
    }
   ],
   "source": [
    "#concatenando as urls\n",
    "#concat the urls\n",
    "urls = []\n",
    "for i in year_option:\n",
    "    link = web+i\n",
    "    print(link)\n",
    "    urls.append(link)"
   ]
  },
  {
   "cell_type": "markdown",
   "metadata": {},
   "source": [
    "# Webscraping data from all seasons (2020-2001)"
   ]
  },
  {
   "cell_type": "code",
   "execution_count": 79,
   "metadata": {},
   "outputs": [],
   "source": [
    "#Definindo o caminho do driver\n",
    "pathc = 'D:\\Program Files (x86)\\chromedriver.exe'\n",
    "\n",
    "#Criando uma lista de anos decrescente, de acordo com os links\n",
    "lista_de_anos = list(np.arange(2020,2012,-1))    "
   ]
  },
  {
   "cell_type": "code",
   "execution_count": null,
   "metadata": {},
   "outputs": [],
   "source": [
    "for u, i in zip(urls, lista_de_anos):\n",
    "    get_team_stats(weburl = u, pathc = pathc, year = i )\n",
    "    print('Just Got data from {}'.format(i))\n",
    "    print('#'*15)"
   ]
  },
  {
   "cell_type": "markdown",
   "metadata": {},
   "source": [
    "## PS\n",
    "\n",
    "- Even thought my year list range (lista_de_anos) goes from 2001 to 2020, WhoScored only have data from 2013 to 2020. \n",
    "\n",
    "- After iterating 2013, it ran an error, but it's because the lack of data from 2001 to 2012.\n",
    "\n",
    "- If you are going to use this for youself, make sure to check the data range seasons."
   ]
  },
  {
   "cell_type": "code",
   "execution_count": null,
   "metadata": {},
   "outputs": [],
   "source": []
  }
 ],
 "metadata": {
  "kernelspec": {
   "display_name": "Python 3",
   "language": "python",
   "name": "python3"
  },
  "language_info": {
   "codemirror_mode": {
    "name": "ipython",
    "version": 3
   },
   "file_extension": ".py",
   "mimetype": "text/x-python",
   "name": "python",
   "nbconvert_exporter": "python",
   "pygments_lexer": "ipython3",
   "version": "3.8.5"
  }
 },
 "nbformat": 4,
 "nbformat_minor": 4
}
